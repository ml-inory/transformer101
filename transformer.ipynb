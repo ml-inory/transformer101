{
 "cells": [
  {
   "cell_type": "markdown",
   "metadata": {},
   "source": [
    "# Attention is all you need\n",
    "[https://arxiv.org/abs/1706.03762](https://arxiv.org/abs/1706.03762)"
   ]
  },
  {
   "cell_type": "code",
   "execution_count": 1,
   "metadata": {},
   "outputs": [],
   "source": [
    "import torch\n",
    "import torch.nn as nn\n",
    "import torch.nn.functional as F\n",
    "import math"
   ]
  },
  {
   "cell_type": "markdown",
   "metadata": {},
   "source": [
    "![image.png](img\\attention.png)  \n",
    "![scaled-dot-product-attention.png](img\\scaled-dot-product-attention.png)"
   ]
  },
  {
   "cell_type": "code",
   "execution_count": 2,
   "metadata": {},
   "outputs": [],
   "source": [
    "class ScaledDotProductAttention(nn.Module):\n",
    "    def __init__():\n",
    "        super().__init__()\n",
    "\n",
    "    def forward(self, q: torch.Tensor, k: torch.Tensor, v: torch.Tensor, mask=None) -> torch.Tensor:\n",
    "        # q: (b, n, dk)\n",
    "        # k: (b, m, dk)\n",
    "        # v: (b, m, dk)\n",
    "        return F.softmax(torch.matmul(q, k.T) / math.sqrt(q.size(-1)), dim=-1).matmul(v)"
   ]
  },
  {
   "cell_type": "markdown",
   "metadata": {},
   "source": [
    "为什么要除以根号dk？\n",
    "与Softmax函数两边的扁平区有关，两边的梯度接近于0，所以softmax进去的值不能特大或特小，然而\n",
    "Q.matmul(K.T)的方差可能比较大，容易造成梯度消失。\n",
    "假设Q和K的均值为0，方差为1，且Q和K独立，则Q.matmul(K.T)的方差 = sum to dk(var(Q * K)) = sum to dk(var(Q) * var(K)) = dk\n",
    "要让方差变为1:\n",
    "var(Q * K / sqrt(dk)) = 1 / dk * var(Q * K) = 1"
   ]
  },
  {
   "cell_type": "code",
   "execution_count": 69,
   "metadata": {},
   "outputs": [
    {
     "name": "stdout",
     "output_type": "stream",
     "text": [
      "Normal dot product softmax grad:\n",
      "grad of Q: 1.606757393801672e-08\n",
      "grad of K: 2.6459346713636478e-08\n",
      "Scaled dot product softmax grad:\n",
      "grad of Q: 1.804493513191119e-05\n",
      "grad of K: 3.5442018997855484e-05\n"
     ]
    }
   ],
   "source": [
    "dk = 512\n",
    "Q = torch.rand([1024, dk], requires_grad=True)\n",
    "K = torch.rand([1024, dk], requires_grad=True)\n",
    "sm = torch.softmax(Q.matmul(K.T), dim=-1)\n",
    "sm[0, 0].backward()\n",
    "print(\"Normal dot product softmax grad:\")\n",
    "print(f\"grad of Q: {Q.grad.max()}\")\n",
    "print(f\"grad of K: {K.grad.max()}\")\n",
    "\n",
    "sm = torch.softmax(Q.matmul(K.T) / math.sqrt(dk), dim=-1)\n",
    "sm[0, 0].backward()\n",
    "print(\"Scaled dot product softmax grad:\")\n",
    "print(f\"grad of Q: {Q.grad.max()}\")\n",
    "print(f\"grad of K: {K.grad.max()}\")"
   ]
  }
 ],
 "metadata": {
  "kernelspec": {
   "display_name": "pytorch",
   "language": "python",
   "name": "python3"
  },
  "language_info": {
   "codemirror_mode": {
    "name": "ipython",
    "version": 3
   },
   "file_extension": ".py",
   "mimetype": "text/x-python",
   "name": "python",
   "nbconvert_exporter": "python",
   "pygments_lexer": "ipython3",
   "version": "3.9.19"
  }
 },
 "nbformat": 4,
 "nbformat_minor": 2
}
