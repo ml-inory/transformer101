{
 "cells": [
  {
   "cell_type": "code",
   "execution_count": 1,
   "metadata": {
    "collapsed": true
   },
   "outputs": [],
   "source": [
    "import os\n",
    "import torch\n",
    "import numpy as np\n",
    "import matplotlib.pyplot as plt"
   ]
  },
  {
   "cell_type": "code",
   "execution_count": 4,
   "outputs": [
    {
     "name": "stdout",
     "output_type": "stream",
     "text": [
      " 0123456789abcdefghijklmnopqrstuvwxyzABCDEFGHIJKLMNOPQRSTUVWXYZ\n"
     ]
    }
   ],
   "source": [
    "with open(\"data.txt\", \"r\") as f:\n",
    "    text = f.read()\n",
    "print(text)\n",
    "\n",
    "vocab_size = len(text)"
   ],
   "metadata": {
    "collapsed": false
   }
  },
  {
   "cell_type": "code",
   "execution_count": 5,
   "outputs": [
    {
     "name": "stdout",
     "output_type": "stream",
     "text": [
      "encode result for 'I love you':  [45, 0, 22, 25, 32, 15, 0, 35, 25, 31]\n",
      "decode result for 'I love you':  I love you\n"
     ]
    }
   ],
   "source": [
    "class IndexTokenizer:\n",
    "    def __init__(self, text):\n",
    "        self.vocab_size = len(text)\n",
    "        self.encode_map = {c : i for i, c in enumerate(text)}\n",
    "        self.decode_map = {i : c for i, c in enumerate(text)}\n",
    "\n",
    "    def encode(self, s):\n",
    "        return [self.encode_map[c] for c in s]\n",
    "\n",
    "    def decode(self, n):\n",
    "        return \"\".join([self.decode_map[i] for i in n])\n",
    "\n",
    "tokenizer = IndexTokenizer(text)\n",
    "print(\"encode result for 'I love you': \", tokenizer.encode(\"I love you\"))\n",
    "print(\"decode result for 'I love you': \", tokenizer.decode(tokenizer.encode(\"I love you\")))"
   ],
   "metadata": {
    "collapsed": false
   }
  },
  {
   "cell_type": "code",
   "execution_count": null,
   "outputs": [],
   "source": [],
   "metadata": {
    "collapsed": false
   }
  }
 ],
 "metadata": {
  "kernelspec": {
   "display_name": "Python 3",
   "language": "python",
   "name": "python3"
  },
  "language_info": {
   "codemirror_mode": {
    "name": "ipython",
    "version": 2
   },
   "file_extension": ".py",
   "mimetype": "text/x-python",
   "name": "python",
   "nbconvert_exporter": "python",
   "pygments_lexer": "ipython2",
   "version": "2.7.6"
  }
 },
 "nbformat": 4,
 "nbformat_minor": 0
}
