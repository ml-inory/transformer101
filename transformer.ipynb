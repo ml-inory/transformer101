{
 "cells": [
  {
   "cell_type": "markdown",
   "metadata": {},
   "source": [
    "# Attention is all you need\n",
    "[https://arxiv.org/abs/1706.03762](https://arxiv.org/abs/1706.03762)"
   ]
  },
  {
   "cell_type": "code",
   "execution_count": 2,
   "metadata": {},
   "outputs": [],
   "source": [
    "import torch\n",
    "import torch.nn as nn\n",
    "import torch.nn.functional as F\n",
    "import math"
   ]
  },
  {
   "cell_type": "markdown",
   "metadata": {},
   "source": [
    "![image.png](img\\attention.png)  \n",
    "![scaled-dot-product-attention.png](img\\scaled-dot-product-attention.png)"
   ]
  },
  {
   "cell_type": "code",
   "execution_count": 45,
   "metadata": {},
   "outputs": [],
   "source": [
    "class ScaledDotProductAttention(nn.Module):\n",
    "    def __init__(self):\n",
    "        super().__init__()\n",
    "\n",
    "    def forward(self, q: torch.Tensor, k: torch.Tensor, v: torch.Tensor, mask=None) -> torch.Tensor:\n",
    "        # q: (b, n, dk)\n",
    "        # k: (b, m, dk)\n",
    "        # v: (b, m, dk)\n",
    "\n",
    "        # (b, n, m)\n",
    "        x = torch.matmul(q, k.transpose(-1, -2)) / math.sqrt(q.size(-1))\n",
    "        if mask is not None:\n",
    "            x = x * mask\n",
    "        \n",
    "        # (b, n, dk)\n",
    "        return F.softmax(x, dim=-1).matmul(v)"
   ]
  },
  {
   "cell_type": "markdown",
   "metadata": {},
   "source": [
    "为什么要除以根号dk？\n",
    "与Softmax函数两边的扁平区有关，两边的梯度接近于0，所以softmax进去的值不能特大或特小，然而\n",
    "Q.matmul(K.T)的方差可能比较大，容易造成梯度消失。\n",
    "假设Q和K的均值为0，方差为1，且Q和K独立，则Q.matmul(K.T)的方差 = sum to dk(var(Q * K)) = sum to dk(var(Q) * var(K)) = dk\n",
    "要让方差变为1:\n",
    "var(Q * K / sqrt(dk)) = 1 / dk * var(Q * K) = 1"
   ]
  },
  {
   "cell_type": "code",
   "execution_count": 29,
   "metadata": {},
   "outputs": [
    {
     "name": "stdout",
     "output_type": "stream",
     "text": [
      "Normal dot product softmax grad:\n",
      "grad of Q: 1.1947786049404385e-07\n",
      "grad of K: 1.7698897636364563e-07\n",
      "Scaled dot product softmax grad:\n",
      "grad of Q: 1.9767354388022795e-05\n",
      "grad of K: 3.987304444308393e-05\n"
     ]
    }
   ],
   "source": [
    "dk = 512\n",
    "Q = torch.rand([1024, dk], requires_grad=True)\n",
    "K = torch.rand([1024, dk], requires_grad=True)\n",
    "sm = torch.softmax(Q.matmul(K.T), dim=-1)\n",
    "sm[0, 0].backward()\n",
    "print(\"Normal dot product softmax grad:\")\n",
    "print(f\"grad of Q: {Q.grad.max()}\")\n",
    "print(f\"grad of K: {K.grad.max()}\")\n",
    "\n",
    "sm = torch.softmax(Q.matmul(K.T) / math.sqrt(dk), dim=-1)\n",
    "sm[0, 0].backward()\n",
    "print(\"Scaled dot product softmax grad:\")\n",
    "print(f\"grad of Q: {Q.grad.max()}\")\n",
    "print(f\"grad of K: {K.grad.max()}\")"
   ]
  },
  {
   "cell_type": "markdown",
   "metadata": {},
   "source": [
    "![mha.png](img\\mha.png)"
   ]
  },
  {
   "cell_type": "code",
   "execution_count": 46,
   "metadata": {},
   "outputs": [],
   "source": [
    "class MHA(nn.Module):\n",
    "    def __init__(self, d_model, num_head):\n",
    "        super().__init__()\n",
    "        self.d_model = d_model\n",
    "        self.num_head = num_head\n",
    "        self.d_k = self.d_model // self.num_head\n",
    "        self.W_Q = [nn.Linear(d_model, self.d_k)] * self.num_head\n",
    "        self.W_K = [nn.Linear(d_model, self.d_k)] * self.num_head\n",
    "        self.W_V = [nn.Linear(d_model, self.d_k)] * self.num_head\n",
    "        self.attn = [ScaledDotProductAttention()] * self.num_head\n",
    "        self.linear_out = nn.Linear(d_model, d_model)\n",
    "\n",
    "    def forward(self, Q, K, V, mask=None):\n",
    "        # (b, n, d_k)\n",
    "        q_proj = [w_q(Q) for w_q in self.W_Q]\n",
    "        # (b, m, d_k)\n",
    "        k_proj = [w_k(K) for w_k in self.W_K]\n",
    "        v_proj = [w_v(V) for w_v in self.W_V]\n",
    "\n",
    "        attn_out = [attn(q, k, v, mask) for attn, q, k, v in zip(self.attn, q_proj, k_proj, v_proj)]\n",
    "\n",
    "        # (b, n, d_model)\n",
    "        return self.linear_out(torch.concat(attn_out, dim=-1))"
   ]
  },
  {
   "cell_type": "code",
   "execution_count": 88,
   "metadata": {},
   "outputs": [
    {
     "name": "stdout",
     "output_type": "stream",
     "text": [
      "tensor([[[ 0.0192, -0.1477,  0.1066,  ...,  0.0278,  0.2166, -0.0585],\n",
      "         [ 0.0199, -0.1477,  0.1066,  ...,  0.0286,  0.2163, -0.0579],\n",
      "         [ 0.0200, -0.1481,  0.1070,  ...,  0.0279,  0.2166, -0.0585],\n",
      "         ...,\n",
      "         [ 0.0195, -0.1477,  0.1072,  ...,  0.0288,  0.2161, -0.0585],\n",
      "         [ 0.0200, -0.1470,  0.1068,  ...,  0.0275,  0.2167, -0.0576],\n",
      "         [ 0.0196, -0.1476,  0.1067,  ...,  0.0279,  0.2168, -0.0584]]],\n",
      "       grad_fn=<ViewBackward0>)\n",
      "torch.Size([1, 16, 512])\n"
     ]
    }
   ],
   "source": [
    "d_model = 512\n",
    "num_head = 8\n",
    "\n",
    "batch_size = 1\n",
    "n = 16\n",
    "m = 32\n",
    "mha = MHA(d_model=d_model, num_head=num_head)\n",
    "Q = torch.rand([batch_size, n, d_model])\n",
    "K = torch.rand([batch_size, m, d_model])\n",
    "V = torch.rand([batch_size, m, d_model])\n",
    "mha_out = mha(Q, K, V)\n",
    "print(mha_out)\n",
    "print(mha_out.size())\n",
    "assert(mha_out.size() == torch.Size([batch_size, n, d_model]))"
   ]
  },
  {
   "cell_type": "markdown",
   "metadata": {},
   "source": [
    "![encode_block](img\\encode_block.png)"
   ]
  },
  {
   "cell_type": "code",
   "execution_count": 47,
   "metadata": {},
   "outputs": [],
   "source": [
    "class FFN(nn.Module):\n",
    "    def __init__(self, d_model):\n",
    "        super().__init__()\n",
    "        \n",
    "        self.d_ffn = 4 * d_model\n",
    "        self.ffn_hidden = nn.Linear(d_model, self.d_ffn)\n",
    "        self.relu = nn.ReLU()\n",
    "        self.ffn_out = nn.Linear(self.d_ffn, d_model)\n",
    "\n",
    "    def forward(self, x):\n",
    "        return self.ffn_out(self.relu(self.ffn_hidden(x)))"
   ]
  },
  {
   "cell_type": "code",
   "execution_count": 65,
   "metadata": {},
   "outputs": [],
   "source": [
    "class ResMHA(nn.Module):\n",
    "    def __init__(self, d_model, num_head):\n",
    "        super().__init__()\n",
    "\n",
    "        self.mha = MHA(d_model, num_head)\n",
    "        self.norm = nn.LayerNorm(d_model)\n",
    "\n",
    "    def forward(self, Q, K, V, mask=None, dropout=None):\n",
    "        mha_out = self.mha(Q=Q, K=K, V=V, mask=mask)\n",
    "        if dropout:\n",
    "            mha_out = dropout(mha_out)\n",
    "        x = self.norm(Q + mha_out)\n",
    "        return x"
   ]
  },
  {
   "cell_type": "code",
   "execution_count": 66,
   "metadata": {},
   "outputs": [],
   "source": [
    "class ResFFN(nn.Module):\n",
    "    def __init__(self, d_model):\n",
    "        super().__init__()\n",
    "\n",
    "        self.ffn = FFN(d_model)\n",
    "        self.norm = nn.LayerNorm(d_model)\n",
    "\n",
    "    def forward(self, x, dropout=None):\n",
    "        ffn_out = self.ffn(x)\n",
    "        if dropout:\n",
    "            ffn_out = dropout(ffn_out)\n",
    "        x = self.norm(x + ffn_out)\n",
    "        return x"
   ]
  },
  {
   "cell_type": "code",
   "execution_count": 67,
   "metadata": {},
   "outputs": [],
   "source": [
    "class EncodeBlock(nn.Module):\n",
    "    def __init__(self, d_model=512, num_head=8):\n",
    "        super().__init__()\n",
    "\n",
    "        self.mha = ResMHA(d_model, num_head)\n",
    "        self.ffn = ResFFN(d_model)\n",
    "\n",
    "    def forward(self, x, dropout=None):\n",
    "        x = self.mha(x,x,x, dropout)\n",
    "        x = self.ffn(x, dropout)\n",
    "        return x"
   ]
  },
  {
   "cell_type": "code",
   "execution_count": 68,
   "metadata": {},
   "outputs": [
    {
     "name": "stdout",
     "output_type": "stream",
     "text": [
      "tensor([[[-1.2226, -0.0778,  0.8386,  ...,  0.1688, -0.8030, -0.6777],\n",
      "         [ 0.4460,  0.8320, -1.4905,  ...,  0.8372, -1.1637,  0.0205],\n",
      "         [-1.7901, -0.5204,  0.7034,  ...,  1.6489,  0.5827, -0.6641],\n",
      "         ...,\n",
      "         [-1.6955, -1.1857, -0.0091,  ...,  0.3037, -0.0612, -0.0898],\n",
      "         [-0.3293, -0.2477, -0.9037,  ...,  1.0064, -0.6258,  0.0540],\n",
      "         [-1.0016,  0.9891,  0.0200,  ..., -0.3595,  1.4110, -0.5751]]],\n",
      "       grad_fn=<NativeLayerNormBackward0>)\n",
      "torch.Size([1, 16, 512])\n"
     ]
    }
   ],
   "source": [
    "d_model = 512\n",
    "num_head = 8\n",
    "\n",
    "batch_size = 1\n",
    "n = 16\n",
    "m = 32\n",
    "Q = torch.rand([batch_size, n, d_model])\n",
    "\n",
    "encode_block = EncodeBlock(d_model, num_head)\n",
    "encode_out = encode_block(Q)\n",
    "print(encode_out)\n",
    "print(encode_out.size())\n",
    "assert(encode_out.size() == torch.Size([batch_size, n, d_model]))"
   ]
  },
  {
   "cell_type": "markdown",
   "metadata": {},
   "source": [
    "![decode_block](img\\decode_block.png)"
   ]
  },
  {
   "cell_type": "code",
   "execution_count": 69,
   "metadata": {},
   "outputs": [
    {
     "name": "stdout",
     "output_type": "stream",
     "text": [
      "tensor([[[ 1.0000e+00, -1.0000e-09, -1.0000e-09, -1.0000e-09],\n",
      "         [ 1.0000e+00,  1.0000e+00, -1.0000e-09, -1.0000e-09],\n",
      "         [ 1.0000e+00,  1.0000e+00,  1.0000e+00, -1.0000e-09],\n",
      "         [ 1.0000e+00,  1.0000e+00,  1.0000e+00,  1.0000e+00]]])\n"
     ]
    }
   ],
   "source": [
    "def sequence_mask(d):\n",
    "    mask = torch.ones([d, d])\n",
    "    tril_mask = torch.tril(mask) == 0\n",
    "    return mask.masked_fill(tril_mask, value=-1e-9).unsqueeze(0)\n",
    "\n",
    "mask = sequence_mask(4)\n",
    "print(mask)"
   ]
  },
  {
   "cell_type": "code",
   "execution_count": 74,
   "metadata": {},
   "outputs": [],
   "source": [
    "class DecodeBlock(nn.Module):\n",
    "    def __init__(self, d_model=512, num_head=8):\n",
    "        super().__init__()\n",
    "\n",
    "        self.mha = ResMHA(d_model, num_head)\n",
    "        self.ffn = ResFFN(d_model)\n",
    "\n",
    "    def forward(self, x, encoder_out_kv, mask=None, dropout=None):\n",
    "        if mask is None:\n",
    "            mask = sequence_mask(x.size(-2))\n",
    "\n",
    "        q = self.mha(Q=x, K=x, V=x, mask=mask, dropout=dropout)\n",
    "        x = self.mha(Q=q, K=encoder_out_kv, V=encoder_out_kv, dropout=dropout)\n",
    "        x = self.ffn(x)\n",
    "        return x"
   ]
  },
  {
   "cell_type": "code",
   "execution_count": 77,
   "metadata": {},
   "outputs": [
    {
     "name": "stdout",
     "output_type": "stream",
     "text": [
      "tensor([[[-0.3511, -0.0940, -1.1568,  ..., -0.0988, -2.7415,  1.1955],\n",
      "         [ 0.4982,  0.5903,  1.1022,  ..., -1.3403, -0.2859,  2.1205],\n",
      "         [-0.9958,  0.4812,  0.0228,  ...,  0.0433, -1.1576,  0.9903],\n",
      "         ...,\n",
      "         [-1.8417,  1.3384, -0.0246,  ...,  0.3239, -0.2813,  1.0861],\n",
      "         [-0.3814,  0.3114,  0.8897,  ...,  0.6380, -2.3141,  0.4224],\n",
      "         [ 0.2877,  0.5784,  0.8718,  ..., -0.1036, -1.9636,  0.8790]]],\n",
      "       grad_fn=<NativeLayerNormBackward0>)\n",
      "torch.Size([1, 16, 512])\n"
     ]
    }
   ],
   "source": [
    "d_model = 512\n",
    "num_head = 8\n",
    "\n",
    "batch_size = 1\n",
    "n = 16\n",
    "m = 32\n",
    "Q = torch.rand([batch_size, n, d_model])\n",
    "\n",
    "encode_block = EncodeBlock(d_model, num_head)\n",
    "encode_out = encode_block(Q)\n",
    "\n",
    "decode_block = DecodeBlock(d_model, num_head)\n",
    "decode_out = decode_block(Q, encode_out)\n",
    "print(decode_out)\n",
    "print(decode_out.size())\n",
    "assert(decode_out.size() == torch.Size([batch_size, n, d_model]))"
   ]
  }
 ],
 "metadata": {
  "kernelspec": {
   "display_name": "pytorch",
   "language": "python",
   "name": "python3"
  },
  "language_info": {
   "codemirror_mode": {
    "name": "ipython",
    "version": 3
   },
   "file_extension": ".py",
   "mimetype": "text/x-python",
   "name": "python",
   "nbconvert_exporter": "python",
   "pygments_lexer": "ipython3",
   "version": "3.9.19"
  }
 },
 "nbformat": 4,
 "nbformat_minor": 2
}
